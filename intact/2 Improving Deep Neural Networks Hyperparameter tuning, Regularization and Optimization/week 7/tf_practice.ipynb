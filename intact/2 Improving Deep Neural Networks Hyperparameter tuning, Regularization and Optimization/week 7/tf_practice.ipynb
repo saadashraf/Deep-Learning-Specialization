{
  "nbformat": 4,
  "nbformat_minor": 0,
  "metadata": {
    "colab": {
      "name": "tf_practice.ipynb",
      "provenance": []
    },
    "kernelspec": {
      "name": "python3",
      "display_name": "Python 3"
    }
  },
  "cells": [
    {
      "cell_type": "code",
      "metadata": {
        "id": "LPS-E7nSU3oy",
        "colab_type": "code",
        "outputId": "a275d1b8-92ab-45ac-c095-903116c25b84",
        "colab": {
          "base_uri": "https://localhost:8080/",
          "height": 63
        }
      },
      "source": [
        "import numpy as np\n",
        "import tensorflow as tf"
      ],
      "execution_count": 1,
      "outputs": [
        {
          "output_type": "display_data",
          "data": {
            "text/html": [
              "<p style=\"color: red;\">\n",
              "The default version of TensorFlow in Colab will soon switch to TensorFlow 2.x.<br>\n",
              "We recommend you <a href=\"https://www.tensorflow.org/guide/migrate\" target=\"_blank\">upgrade</a> now \n",
              "or ensure your notebook will continue to use TensorFlow 1.x via the <code>%tensorflow_version 1.x</code> magic:\n",
              "<a href=\"https://colab.research.google.com/notebooks/tensorflow_version.ipynb\" target=\"_blank\">more info</a>.</p>\n"
            ],
            "text/plain": [
              "<IPython.core.display.HTML object>"
            ]
          },
          "metadata": {
            "tags": []
          }
        }
      ]
    },
    {
      "cell_type": "code",
      "metadata": {
        "id": "ehah_piSXuHM",
        "colab_type": "code",
        "outputId": "74da42b2-53a3-49c7-aa62-3b1eb60dcac5",
        "colab": {
          "base_uri": "https://localhost:8080/",
          "height": 34
        }
      },
      "source": [
        "coefficients = np.array([[1.] , [-20.] , [100.]])\n",
        "\n",
        "w = tf.Variable(0,dtype=tf.float32)\n",
        "x = tf.placeholder(tf.float32 , [3 , 1])\n",
        "#cost = tf.add(tf.add(w ** 2 , tf.multiply(-10. , w)) , 25)\n",
        "#cost = w**2 - 10 * w + 25\n",
        "cost = x[0][0] * w ** 2 + x[1][0] * w + x[2][0]\n",
        "train = tf.train.GradientDescentOptimizer(0.01).minimize(cost)\n",
        "\n",
        "init = tf.global_variables_initializer()\n",
        "session = tf.Session()\n",
        "session.run(init)\n",
        "print(session.run(w))"
      ],
      "execution_count": 7,
      "outputs": [
        {
          "output_type": "stream",
          "text": [
            "0.0\n"
          ],
          "name": "stdout"
        }
      ]
    },
    {
      "cell_type": "code",
      "metadata": {
        "id": "aJlfsrpVaY7f",
        "colab_type": "code",
        "outputId": "2755d1d1-7d4e-49f5-979f-f8f04b194340",
        "colab": {
          "base_uri": "https://localhost:8080/",
          "height": 34
        }
      },
      "source": [
        "session.run(train , feed_dict = {x : coefficients})\n",
        "print(session.run(w))"
      ],
      "execution_count": 3,
      "outputs": [
        {
          "output_type": "stream",
          "text": [
            "0.19999999\n"
          ],
          "name": "stdout"
        }
      ]
    },
    {
      "cell_type": "code",
      "metadata": {
        "id": "FiEM2rg9be01",
        "colab_type": "code",
        "outputId": "e2f1c71f-e6b6-4775-d9a8-3a76eb883332",
        "colab": {
          "base_uri": "https://localhost:8080/",
          "height": 34
        }
      },
      "source": [
        "for i in range(1000):\n",
        "  session.run(train , feed_dict = {x : coefficients})\n",
        "\n",
        "print(session.run(w))"
      ],
      "execution_count": 4,
      "outputs": [
        {
          "output_type": "stream",
          "text": [
            "9.999976\n"
          ],
          "name": "stdout"
        }
      ]
    },
    {
      "cell_type": "code",
      "metadata": {
        "id": "kOE_H5tjcDgB",
        "colab_type": "code",
        "colab": {}
      },
      "source": [
        ""
      ],
      "execution_count": 0,
      "outputs": []
    }
  ]
}